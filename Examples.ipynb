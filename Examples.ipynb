{
  "nbformat": 4,
  "nbformat_minor": 0,
  "metadata": {
    "colab": {
      "provenance": []
    },
    "kernelspec": {
      "name": "python3",
      "display_name": "Python 3"
    },
    "language_info": {
      "name": "python"
    }
  },
  "cells": [
    {
      "cell_type": "code",
      "source": [
        "pip install nltk"
      ],
      "metadata": {
        "colab": {
          "base_uri": "https://localhost:8080/"
        },
        "id": "twXp8NRNZdiq",
        "outputId": "96397105-de77-48b6-8a7e-d96ddb3640f2"
      },
      "execution_count": 3,
      "outputs": [
        {
          "output_type": "stream",
          "name": "stdout",
          "text": [
            "Looking in indexes: https://pypi.org/simple, https://us-python.pkg.dev/colab-wheels/public/simple/\n",
            "Requirement already satisfied: nltk in /usr/local/lib/python3.10/dist-packages (3.8.1)\n",
            "Requirement already satisfied: click in /usr/local/lib/python3.10/dist-packages (from nltk) (8.1.3)\n",
            "Requirement already satisfied: joblib in /usr/local/lib/python3.10/dist-packages (from nltk) (1.2.0)\n",
            "Requirement already satisfied: regex>=2021.8.3 in /usr/local/lib/python3.10/dist-packages (from nltk) (2022.10.31)\n",
            "Requirement already satisfied: tqdm in /usr/local/lib/python3.10/dist-packages (from nltk) (4.65.0)\n"
          ]
        }
      ]
    },
    {
      "cell_type": "code",
      "execution_count": 4,
      "metadata": {
        "colab": {
          "base_uri": "https://localhost:8080/"
        },
        "id": "w5DDa73MYwD3",
        "outputId": "3443e384-9713-40fb-a0e6-4c512563c540"
      },
      "outputs": [
        {
          "output_type": "stream",
          "name": "stderr",
          "text": [
            "[nltk_data] Downloading package punkt to /root/nltk_data...\n",
            "[nltk_data]   Package punkt is already up-to-date!\n",
            "[nltk_data] Downloading package averaged_perceptron_tagger to\n",
            "[nltk_data]     /root/nltk_data...\n",
            "[nltk_data]   Package averaged_perceptron_tagger is already up-to-\n",
            "[nltk_data]       date!\n",
            "[nltk_data] Downloading package stopwords to /root/nltk_data...\n",
            "[nltk_data]   Unzipping corpora/stopwords.zip.\n"
          ]
        },
        {
          "output_type": "stream",
          "name": "stdout",
          "text": [
            "skills 2\n",
            "Experienced 1\n",
            "software 1\n",
            "engineer 1\n",
            "expertise 1\n"
          ]
        }
      ],
      "source": [
        "import nltk\n",
        "from nltk.corpus import stopwords\n",
        "from nltk.tokenize import word_tokenize\n",
        "\n",
        "# Download the required resources\n",
        "nltk.download('punkt')\n",
        "nltk.download('averaged_perceptron_tagger')\n",
        "nltk.download('stopwords')\n",
        "\n",
        "# Sample resumes\n",
        "resumes = [\n",
        "    \"Experienced software engineer with expertise in Python, Java, and machine learning.\",\n",
        "    \"Marketing specialist with strong skills in social media marketing and content creation.\",\n",
        "    \"Data analyst with proficiency in SQL, Excel, and statistical analysis.\",\n",
        "    \"Sales representative with excellent communication and negotiation skills.\",\n",
        "    \"Front-end developer skilled in HTML, CSS, and JavaScript frameworks.\"\n",
        "]\n",
        "\n",
        "# Function to extract keywords from a given resume\n",
        "def extract_keywords(resume):\n",
        "    # Tokenize the resume into words\n",
        "    tokens = word_tokenize(resume)\n",
        "\n",
        "    # Remove stopwords (common words like \"the\", \"and\", etc.)\n",
        "    stop_words = set(stopwords.words('english'))\n",
        "    tokens = [word for word in tokens if word.lower() not in stop_words]\n",
        "\n",
        "    # Identify important keywords (nouns and adjectives)\n",
        "    keywords = [word for (word, pos) in nltk.pos_tag(tokens) if pos.startswith('NN') or pos.startswith('JJ')]\n",
        "\n",
        "    return keywords\n",
        "\n",
        "# Function to rank candidates based on keyword frequency\n",
        "def rank_candidates(resumes):\n",
        "    keyword_counts = {}\n",
        "\n",
        "    for resume in resumes:\n",
        "        keywords = extract_keywords(resume)\n",
        "        for keyword in keywords:\n",
        "            keyword_counts[keyword] = keyword_counts.get(keyword, 0) + 1\n",
        "\n",
        "    ranked_candidates = sorted(keyword_counts.items(), key=lambda x: x[1], reverse=True)\n",
        "    return ranked_candidates\n",
        "\n",
        "# Rank the candidates based on keywords\n",
        "ranked_candidates = rank_candidates(resumes)\n",
        "\n",
        "# Print the top 5 keywords and their frequencies\n",
        "for keyword, frequency in ranked_candidates[:5]:\n",
        "    print(keyword, frequency)\n"
      ]
    },
    {
      "cell_type": "code",
      "source": [
        "# Rank the candidates based on keywords\n",
        "ranked_candidates = rank_candidates(resumes)\n",
        "\n",
        "# Print the extracted keywords\n",
        "for resume in resumes:\n",
        "    keywords = extract_keywords(resume)\n",
        "    print(\"Keywords:\", keywords)\n",
        "\n",
        "# Print the top 5 keywords and their frequencies\n",
        "print(\"Top 5 keywords and frequencies:\")\n",
        "if ranked_candidates:\n",
        "    for keyword, frequency in ranked_candidates[:5]:\n",
        "        print(keyword, frequency)\n",
        "else:\n",
        "    print(\"No keywords found.\")\n"
      ],
      "metadata": {
        "colab": {
          "base_uri": "https://localhost:8080/"
        },
        "id": "72u0VB3NZrVz",
        "outputId": "3f15abf1-90a1-4479-b3cb-0b2e29521d1b"
      },
      "execution_count": 5,
      "outputs": [
        {
          "output_type": "stream",
          "name": "stdout",
          "text": [
            "Keywords: ['Experienced', 'software', 'engineer', 'expertise', 'Python', 'Java', 'machine', 'learning']\n",
            "Keywords: ['specialist', 'strong', 'skills', 'social', 'media', 'content', 'creation']\n",
            "Keywords: ['Data', 'analyst', 'proficiency', 'SQL', 'Excel', 'statistical', 'analysis']\n",
            "Keywords: ['Sales', 'excellent', 'communication', 'negotiation', 'skills']\n",
            "Keywords: ['Front-end', 'developer', 'HTML', 'CSS', 'JavaScript']\n",
            "Top 5 keywords and frequencies:\n",
            "skills 2\n",
            "Experienced 1\n",
            "software 1\n",
            "engineer 1\n",
            "expertise 1\n"
          ]
        }
      ]
    }
  ]
}